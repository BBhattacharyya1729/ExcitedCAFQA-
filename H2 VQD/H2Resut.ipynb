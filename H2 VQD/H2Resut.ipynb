{
 "cells": [
  {
   "cell_type": "code",
   "execution_count": 3,
   "id": "21a719b9-a91d-40ac-bc8b-05f2168fd2ae",
   "metadata": {
    "tags": []
   },
   "outputs": [],
   "source": [
    "import sys\n",
    "sys.path.append(\"../\")\n",
    "from VQD_CAFQA import *\n",
    "import numpy as np\n",
    "import matplotlib.pyplot as plt\n",
    "import scipy\n",
    "from qiskit.quantum_info import Statevector\n",
    "dlist = np.linspace(0.5,4,50)\n",
    "%matplotlib inline\n",
    "\n",
    "def getH2(d):\n",
    "    return JWmolecule(f\"H 0 0 0; H 0 0 {d}\")"
   ]
  },
  {
   "cell_type": "code",
   "execution_count": 4,
   "id": "f6cecb21-4982-4caf-b148-5a4c4e3a36f7",
   "metadata": {
    "tags": []
   },
   "outputs": [
    {
     "name": "stdout",
     "output_type": "stream",
     "text": [
      "----------------H2----------------\n",
      "Distance 0.5\n",
      "Distance 0.5714285714285714\n",
      "Distance 0.6428571428571428\n",
      "Distance 0.7142857142857143\n",
      "Distance 0.7857142857142857\n",
      "Distance 0.8571428571428571\n",
      "Distance 0.9285714285714286\n",
      "Distance 1.0\n",
      "Distance 1.0714285714285714\n",
      "Distance 1.1428571428571428\n",
      "Distance 1.2142857142857142\n",
      "Distance 1.2857142857142856\n",
      "Distance 1.3571428571428572\n",
      "Distance 1.4285714285714284\n",
      "Distance 1.5\n",
      "Distance 1.5714285714285714\n",
      "Distance 1.6428571428571428\n",
      "Distance 1.7142857142857142\n",
      "Distance 1.7857142857142856\n",
      "Distance 1.857142857142857\n",
      "Distance 1.9285714285714284\n",
      "Distance 2.0\n",
      "Distance 2.071428571428571\n",
      "Distance 2.142857142857143\n",
      "Distance 2.2142857142857144\n",
      "Distance 2.2857142857142856\n",
      "Distance 2.3571428571428568\n",
      "Distance 2.4285714285714284\n",
      "Distance 2.5\n",
      "Distance 2.571428571428571\n",
      "Distance 2.642857142857143\n",
      "Distance 2.714285714285714\n",
      "Distance 2.7857142857142856\n",
      "Distance 2.857142857142857\n",
      "Distance 2.9285714285714284\n",
      "Distance 3.0\n",
      "Distance 3.071428571428571\n",
      "Distance 3.142857142857143\n",
      "Distance 3.214285714285714\n",
      "Distance 3.2857142857142856\n",
      "Distance 3.3571428571428568\n",
      "Distance 3.4285714285714284\n",
      "Distance 3.5\n",
      "Distance 3.571428571428571\n",
      "Distance 3.642857142857143\n",
      "Distance 3.714285714285714\n",
      "Distance 3.7857142857142856\n",
      "Distance 3.8571428571428568\n",
      "Distance 3.9285714285714284\n",
      "Distance 4.0\n"
     ]
    }
   ],
   "source": [
    "print(\"----------------H2----------------\")\n",
    "H2Hamiltonian_Data=[]\n",
    "for m,d in enumerate(dlist):\n",
    "    coeffs,paulis,_ = getH2(d)\n",
    "    D=np.linalg.eigh(SparsePauliOp(coeffs=coeffs,data=paulis))\n",
    "    l=[[D[0][i],D[1].T[i]] for i in range(len(D[0]))]\n",
    "    H2Hamiltonian_Data.append( (np.array([i[0] for i in l]),np.array([i[1] for i in l]).T))\n",
    "    print(f\"Distance {d}\")"
   ]
  },
  {
   "cell_type": "code",
   "execution_count": 5,
   "id": "ce5a27e6-721f-4037-b4aa-0f6f25e23df3",
   "metadata": {
    "tags": []
   },
   "outputs": [
    {
     "name": "stdout",
     "output_type": "stream",
     "text": [
      "Distance: 0.5\n",
      "Distance: 0.5714285714285714\n",
      "Distance: 0.6428571428571428\n",
      "Distance: 0.7142857142857143\n",
      "Distance: 0.7857142857142857\n",
      "Distance: 0.8571428571428571\n",
      "Distance: 0.9285714285714286\n",
      "Distance: 1.0\n",
      "Distance: 1.0714285714285714\n",
      "Distance: 1.1428571428571428\n",
      "Distance: 1.2142857142857142\n",
      "Distance: 1.2857142857142856\n",
      "Distance: 1.3571428571428572\n",
      "Distance: 1.4285714285714284\n",
      "Distance: 1.5\n",
      "Distance: 1.5714285714285714\n",
      "Distance: 1.6428571428571428\n",
      "Distance: 1.7142857142857142\n",
      "Distance: 1.7857142857142856\n",
      "Distance: 1.857142857142857\n",
      "Distance: 1.9285714285714284\n",
      "Distance: 2.0\n",
      "Distance: 2.071428571428571\n",
      "Distance: 2.142857142857143\n",
      "Distance: 2.2142857142857144\n",
      "Distance: 2.2857142857142856\n",
      "Distance: 2.3571428571428568\n",
      "Distance: 2.4285714285714284\n",
      "Distance: 2.5\n",
      "Distance: 2.571428571428571\n",
      "Distance: 2.642857142857143\n",
      "Distance: 2.714285714285714\n",
      "Distance: 2.7857142857142856\n",
      "Distance: 2.857142857142857\n",
      "Distance: 2.9285714285714284\n",
      "Distance: 3.0\n",
      "Distance: 3.071428571428571\n",
      "Distance: 3.142857142857143\n",
      "Distance: 3.214285714285714\n",
      "Distance: 3.2857142857142856\n",
      "Distance: 3.3571428571428568\n",
      "Distance: 3.4285714285714284\n",
      "Distance: 3.5\n",
      "Distance: 3.571428571428571\n",
      "Distance: 3.642857142857143\n",
      "Distance: 3.714285714285714\n",
      "Distance: 3.7857142857142856\n",
      "Distance: 3.8571428571428568\n",
      "Distance: 3.9285714285714284\n",
      "Distance: 4.0\n"
     ]
    }
   ],
   "source": [
    "from qiskit.quantum_info import Statevector\n",
    "\n",
    "### h2\n",
    "N_operator = N_op(4)\n",
    "S2_operator=S2(4)\n",
    "SZ_operator=S_z(4)\n",
    "\n",
    "H2_singlet_energies = []\n",
    "H2_triplet_energies = []\n",
    "H2_cation_energies = []\n",
    "H2_anion_energies = []\n",
    "\n",
    "for m,i in enumerate(H2Hamiltonian_Data):\n",
    "    singlet_l=[]\n",
    "    triplet_l=[]\n",
    "    cation_l=[]\n",
    "    anion_l=[]\n",
    "    \n",
    "    s=i[1].T\n",
    "    for k,j in enumerate(s):\n",
    "        state=Statevector(j)\n",
    "        N=round(state.expectation_value(SparsePauliOp(coeffs=N_operator.coeffs,data=[p[::-1] for p in N_operator.paulis.to_labels()])).real)\n",
    "        SpinTotal=round(state.expectation_value(SparsePauliOp(coeffs=S2_operator.coeffs,data=[p for p in S2_operator.paulis.to_labels()])).real*4)/4\n",
    "        SpinZ=round(state.expectation_value(SparsePauliOp(coeffs=SZ_operator.coeffs,data=[p[::-1] for p in SZ_operator.paulis.to_labels()])).real*2)/2\n",
    "        if(N==2 and SpinTotal == 0 and len(singlet_l)<2):\n",
    "            singlet_l.append(i[0][k].real)\n",
    "        if(N==2 and SpinTotal == 2 and len(triplet_l)==0):\n",
    "            triplet_l.append(i[0][k].real)\n",
    "        if(N==3 and SpinTotal == 3/4 and len(cation_l)==0):\n",
    "            cation_l.append(i[0][k].real)\n",
    "        if(N==1 and SpinTotal == 3/4 and len(anion_l)==0):\n",
    "            anion_l.append(i[0][k].real)\n",
    "        if(len(singlet_l)==2 and len(triplet_l)==1 and len(cation_l)==1 and len(anion_l)==1):\n",
    "            break\n",
    "    H2_singlet_energies.append(singlet_l)\n",
    "    H2_triplet_energies.append(triplet_l)\n",
    "    H2_anion_energies.append(anion_l)\n",
    "    H2_cation_energies.append(cation_l)\n",
    "    print(f\"Distance: {dlist[m]}\")"
   ]
  },
  {
   "cell_type": "code",
   "execution_count": null,
   "id": "fba47216-551f-4c98-a13b-dd1fb8510b59",
   "metadata": {},
   "outputs": [],
   "source": [
    "Q_CAFQA_energiesList=np.genfromtxt(\"Q_CAFQA_energiesList.csv\", delimiter=\",\")\n",
    "A_CAFQA_energiesList=np.genfromtxt(\"A_CAFQA_energiesList.csv\", delimiter=\",\")"
   ]
  },
  {
   "cell_type": "code",
   "execution_count": 6,
   "id": "4946ecb7-1066-411a-a1da-a697c6840af4",
   "metadata": {
    "tags": []
   },
   "outputs": [
    {
     "data": {
      "text/plain": [
       "<matplotlib.legend.Legend at 0x7fe3f9391c00>"
      ]
     },
     "execution_count": 6,
     "metadata": {},
     "output_type": "execute_result"
    },
    {
     "data": {
      "image/png": "[encoded data removed]",
      "text/plain": [
       "<Figure size 640x480 with 1 Axes>"
      ]
     },
     "metadata": {},
     "output_type": "display_data"
    }
   ],
   "source": [
    "plt.title(\"H2 Molecule\")\n",
    "plt.plot(dlist,H2_singlet_energies,color='green',label='singlet')\n",
    "plt.plot(dlist,H2_triplet_energies,color='orange',label='triplet')\n",
    "plt.plot(dlist,H2_cation_energies,color='red',label='cation')\n",
    "plt.plot(dlist,H2_anion_energies,color='blue',label='anion')\n",
    "plt.legend()"
   ]
  }
 ],
 "metadata": {
  "environment": {
   "kernel": "python3",
   "name": "tf2-cpu.2-11.m119",
   "type": "gcloud",
   "uri": "us-docker.pkg.dev/deeplearning-platform-release/gcr.io/tf2-cpu.2-11:m119"
  },
  "kernelspec": {
   "display_name": "Python 3 (Local)",
   "language": "python",
   "name": "python3"
  },
  "language_info": {
   "codemirror_mode": {
    "name": "ipython",
    "version": 3
   },
   "file_extension": ".py",
   "mimetype": "text/x-python",
   "name": "python",
   "nbconvert_exporter": "python",
   "pygments_lexer": "ipython3",
   "version": "3.10.14"
  }
 },
 "nbformat": 4,
 "nbformat_minor": 5
}
