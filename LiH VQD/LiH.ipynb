{
 "cells": [
  {
   "cell_type": "code",
   "execution_count": null,
   "id": "7fbd9665-a650-4453-9010-ecd78549d765",
   "metadata": {
    "tags": []
   },
   "outputs": [],
   "source": [
    "import sys\n",
    "sys.path.append(\"../\")\n",
    "from VQD_CAFQA import *\n",
    "import numpy as np\n",
    "import matplotlib.pyplot as plt\n",
    "import scipy\n",
    "from qiskit.quantum_info import Statevector\n",
    "%matplotlib inline\n",
    "\n",
    "def getLiH(d):\n",
    "    return JWmolecule(f\"Li 0 0 0; H 0 0 {d}\")\n",
    "\n",
    "dlist = np.linspace(0.5,4,8)\n",
    "initials = ['110000110000','1000011100','1110011000','1000011000']"
   ]
  },
  {
   "cell_type": "code",
   "execution_count": null,
   "id": "9dbd9129-57a1-4d32-882b-e18e2cccc8cb",
   "metadata": {},
   "outputs": [],
   "source": [
    "A_CAFQA_parameterList = []\n",
    "A_CAFQA_energiesList = []\n",
    "ansatz = efficientsu2(n_qubits=12,repetitions=3,initial=\"110000110000\")\n",
    "ansatzList = [ansatz] + [A_Ansatz(12,3,initial = i) for i in initials]\n",
    "k=len(ansatzList)\n",
    "for d in dlist:\n",
    "    coeffs,paulis,initial=getH4(d)\n",
    "    save_dir = 'A_LiH_Data'\n",
    "    energies,paramList = run_genetic_cafqa_vqd(coeffs,paulis,ansatzList,k,save_dir=save_dir,name=f'LiH Distance: {d}',\n",
    "                         budget=10**5,\n",
    "                         num_parents_mating = 4, \n",
    "                         sol_per_pop = 8, \n",
    "                         parent_selection_type = \"sss\", \n",
    "                         keep_parents = 1, \n",
    "                         crossover_type = \"single_point\",\n",
    "                         crossover_probability=0.75, \n",
    "                         mutation_type = \"random\", \n",
    "                         mutation_probability = 0.01,\n",
    "                         keep_elitism=1,\n",
    "                         parallel=4) ###Change\n",
    "    A_CAFQA_parameterList.append(paramList)\n",
    "    A_CAFQA_energiesList.append(energies)"
   ]
  },
  {
   "cell_type": "code",
   "execution_count": null,
   "id": "a5707317-8535-428f-8b1a-ac55896b770f",
   "metadata": {},
   "outputs": [],
   "source": [
    "Q_CAFQA_parameterList = []\n",
    "Q_CAFQA_energiesList = []\n",
    "ansatz = efficientsu2(n_qubits=12,repetitions=3,initial=\"110000110000\")\n",
    "ansatzList = [ansatz] + [Q_Ansatz(12,3,initial = i) for i in initials]\n",
    "k=len(ansatzList)\n",
    "for d in dlist:\n",
    "    coeffs,paulis,initial=getH4(d)\n",
    "    save_dir = 'Q_LiH_Data'\n",
    "    energies,paramList = run_genetic_cafqa_vqd(coeffs,paulis,ansatzList,k,save_dir=save_dir,name=f'LiH Distance: {d}',\n",
    "                         budget=10**5,\n",
    "                         num_parents_mating = 4, \n",
    "                         sol_per_pop = 8, \n",
    "                         parent_selection_type = \"sss\", \n",
    "                         keep_parents = 1, \n",
    "                         crossover_type = \"single_point\",\n",
    "                         crossover_probability=0.75, \n",
    "                         mutation_type = \"random\", \n",
    "                         mutation_probability = 0.01,\n",
    "                         keep_elitism=1,\n",
    "                         parallel=4) ###Change\n",
    "    Q_CAFQA_parameterList.append(paramList)\n",
    "    Q_CAFQA_energiesList.append(energies)"
   ]
  },
  {
   "cell_type": "code",
   "execution_count": null,
   "id": "bda865ff-82d0-4245-ba01-0659e6208d29",
   "metadata": {},
   "outputs": [],
   "source": [
    "np.savetxt(\"Q_CAFQA_energiesList.csv\", np.array(Q_CAFQA_energiesList), delimiter=\",\")\n",
    "np.savetxt(\"A_CAFQA_energiesList.csv\", np.array(A_CAFQA_energiesList), delimiter=\",\")"
   ]
  }
 ],
 "metadata": {
  "environment": {
   "kernel": "python3",
   "name": "tf2-cpu.2-11.m119",
   "type": "gcloud",
   "uri": "us-docker.pkg.dev/deeplearning-platform-release/gcr.io/tf2-cpu.2-11:m119"
  },
  "kernelspec": {
   "display_name": "Python 3 (Local)",
   "language": "python",
   "name": "python3"
  },
  "language_info": {
   "codemirror_mode": {
    "name": "ipython",
    "version": 3
   },
   "file_extension": ".py",
   "mimetype": "text/x-python",
   "name": "python",
   "nbconvert_exporter": "python",
   "pygments_lexer": "ipython3",
   "version": "3.10.14"
  }
 },
 "nbformat": 4,
 "nbformat_minor": 5
}
