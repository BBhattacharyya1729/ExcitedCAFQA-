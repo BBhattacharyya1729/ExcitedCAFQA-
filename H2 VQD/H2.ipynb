{
 "cells": [
  {
   "cell_type": "code",
   "execution_count": null,
   "id": "8b640d6e-62c9-4ac0-b713-3d92ae182be2",
   "metadata": {
    "tags": []
   },
   "outputs": [],
   "source": [
    "import sys\n",
    "sys.path.append(\"../\")\n",
    "from VQD_CAFQA import *\n",
    "import numpy as np\n",
    "import matplotlib.pyplot as plt\n",
    "import scipy\n",
    "from qiskit.quantum_info import Statevector\n",
    "%matplotlib inline\n",
    "\n",
    "def getH2(d):\n",
    "    return JWmolecule(f\"H 0 0 0; H 0 0 {d}\")\n",
    "\n",
    "dlist = np.linspace(0.5,4,8)\n",
    "initials = [\"1100\", \"1110\", \"1000\",\"0101\"]"
   ]
  },
  {
   "cell_type": "code",
   "execution_count": null,
   "id": "c612106f-c6a7-4041-a6b4-7b43b0637c39",
   "metadata": {
    "tags": []
   },
   "outputs": [],
   "source": [
    "A_CAFQA_parameterList = []\n",
    "A_CAFQA_energiesList = []\n",
    "ansatz = efficientsu2(n_qubits=4,repetitions=3,initial=\"1010\")\n",
    "ansatzList = [ansatz] + [A_Ansatz(4,3,initial = i) for i in initials]\n",
    "k=len(ansatzList)\n",
    "for d in dlist:\n",
    "    coeffs,paulis,initial=getH2(d)\n",
    "    save_dir = 'A_H2_Data'\n",
    "    energies,paramList = run_genetic_cafqa_vqd(coeffs,paulis,ansatzList,k,save_dir=save_dir,name=f'H2 Distance: {d}',\n",
    "                         budget=10**5,\n",
    "                         num_parents_mating = 4, \n",
    "                         sol_per_pop = 8, \n",
    "                         parent_selection_type = \"sss\", \n",
    "                         keep_parents = 1, \n",
    "                         crossover_type = \"single_point\",\n",
    "                         crossover_probability=0.75, \n",
    "                         mutation_type = \"random\", \n",
    "                         mutation_probability = 0.01,\n",
    "                         keep_elitism=1,\n",
    "                         parallel=4)\n",
    "    A_CAFQA_parameterList.append(paramList)\n",
    "    A_CAFQA_energiesList.append(energies)"
   ]
  },
  {
   "cell_type": "code",
   "execution_count": null,
   "id": "e050c9d9-6639-444a-8be9-aa3a0686ec2b",
   "metadata": {
    "tags": []
   },
   "outputs": [],
   "source": [
    "Q_CAFQA_parameterList = []\n",
    "Q_CAFQA_energiesList = []\n",
    "ansatz = efficientsu2(n_qubits=4,repetitions=3,initial=\"1010\")\n",
    "ansatzList = [ansatz] + [Q_Ansatz(4,3,initial = i) for i in initials]\n",
    "k=len(ansatzList)\n",
    "for d in dlist:\n",
    "    coeffs,paulis,initial=getH2(d)\n",
    "    save_dir = 'Q_H2_Data'\n",
    "    energies,paramList = run_genetic_cafqa_vqd(coeffs,paulis,ansatzList,k,save_dir=save_dir,name=f'H2 Distance: {d}',\n",
    "                         budget=10**5,\n",
    "                         num_parents_mating = 4, \n",
    "                         sol_per_pop = 8, \n",
    "                         parent_selection_type = \"sss\", \n",
    "                         keep_parents = 1, \n",
    "                         crossover_type = \"single_point\",\n",
    "                         crossover_probability=0.75, \n",
    "                         mutation_type = \"random\", \n",
    "                         mutation_probability = 0.01,\n",
    "                         keep_elitism=1,\n",
    "                         parallel=4)\n",
    "    Q_CAFQA_parameterList.append(paramList)\n",
    "    Q_CAFQA_energiesList.append(energies)"
   ]
  },
  {
   "cell_type": "code",
   "execution_count": null,
   "id": "4f13add2-341c-4594-8323-a2f2aec822ea",
   "metadata": {
    "tags": []
   },
   "outputs": [],
   "source": [
    "np.savetxt(\"Q_CAFQA_energiesList.csv\", np.array(Q_CAFQA_energiesList), delimiter=\",\")\n",
    "np.savetxt(\"A_CAFQA_energiesList.csv\", np.array(A_CAFQA_energiesList), delimiter=\",\")"
   ]
  }
 ],
 "metadata": {
  "environment": {
   "kernel": "python3",
   "name": "tf2-cpu.2-11.m119",
   "type": "gcloud",
   "uri": "us-docker.pkg.dev/deeplearning-platform-release/gcr.io/tf2-cpu.2-11:m119"
  },
  "kernelspec": {
   "display_name": "Python 3 (Local)",
   "language": "python",
   "name": "python3"
  },
  "language_info": {
   "codemirror_mode": {
    "name": "ipython",
    "version": 3
   },
   "file_extension": ".py",
   "mimetype": "text/x-python",
   "name": "python",
   "nbconvert_exporter": "python",
   "pygments_lexer": "ipython3",
   "version": "3.10.14"
  }
 },
 "nbformat": 4,
 "nbformat_minor": 5
}
