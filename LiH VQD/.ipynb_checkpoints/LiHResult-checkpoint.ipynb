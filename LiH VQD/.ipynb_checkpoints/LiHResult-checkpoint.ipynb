{
 "cells": [
  {
   "cell_type": "code",
   "execution_count": null,
   "id": "5665349b-ba08-4655-b1dd-bf85800e1ef7",
   "metadata": {
    "tags": []
   },
   "outputs": [],
   "source": [
    "import sys\n",
    "sys.path.append(\"../\")\n",
    "from VQD_CAFQA import *\n",
    "import numpy as np\n",
    "import matplotlib.pyplot as plt\n",
    "import scipy\n",
    "from qiskit.quantum_info import Statevector\n",
    "dlist = np.linspace(0.5,4,50)\n",
    "%matplotlib inline\n",
    "\n",
    "def getLiH(d):\n",
    "    return JWmolecule(f\"Li 0 0 0; H 0 0 {d}\")\n"
   ]
  },
  {
   "cell_type": "code",
   "execution_count": null,
   "id": "91ef8dbb-367e-4110-acff-8544ebdffbb5",
   "metadata": {
    "tags": []
   },
   "outputs": [],
   "source": [
    "print(\"----------------LiH----------------\")\n",
    "LiHHamiltonian_Data=[]\n",
    "for m,d in enumerate(dlist):\n",
    "    coeffs,paulis,_ = getLiH(d)\n",
    "    D=scipy.sparse.linalg.eigsh(SparsePauliOp(coeffs=coeffs,data=paulis).to_matrix(sparse=True),k=200,which='SA')\n",
    "    l=[[D[0][i],D[1].T[i]] for i in range(len(D[0]))]\n",
    "    l.sort(key = lambda x:x[0])\n",
    "    LiHHamiltonian_Data.append( (np.array([i[0] for i in l]),np.array([i[1] for i in l]).T))\n",
    "    print(f\"Distance {d}\")\n"
   ]
  },
  {
   "cell_type": "code",
   "execution_count": null,
   "id": "d927832e-ea89-4535-be09-d74d6bb3c896",
   "metadata": {},
   "outputs": [],
   "source": [
    "from qiskit.quantum_info import Statevector\n",
    "\n",
    "N_operator = N_op(12)\n",
    "S2_operator=S2(12)\n",
    "SZ_operator=S_z(12)\n",
    "\n",
    "LiH_singlet_energies = []\n",
    "LiH_triplet_energies = []\n",
    "LiH_cation_energies = []\n",
    "LiH_anion_energies = []\n",
    "\n",
    "for m,i in enumerate(LiHHamiltonian_Data):\n",
    "    singlet_l=[]\n",
    "    triplet_l=[]\n",
    "    cation_l=[]\n",
    "    anion_l=[]\n",
    "    \n",
    "    s=i[1].T\n",
    "    for k,j in enumerate(s):\n",
    "        state=Statevector(j)\n",
    "        N=round(state.expectation_value(SparsePauliOp(coeffs=N_operator.coeffs,data=[p[::-1] for p in N_operator.paulis.to_labels()])).real)\n",
    "        SpinTotal=round(state.expectation_value(SparsePauliOp(coeffs=S2_operator.coeffs,data=[p for p in S2_operator.paulis.to_labels()])).real*4)/4\n",
    "        SpinZ=round(state.expectation_value(SparsePauliOp(coeffs=SZ_operator.coeffs,data=[p[::-1] for p in SZ_operator.paulis.to_labels()])).real*2)/2\n",
    "        if(N==4 and SpinTotal == 0 and len(singlet_l)<2):\n",
    "            singlet_l.append(i[0][k].real)\n",
    "        if(N==4 and SpinTotal == 2 and len(triplet_l)<2):\n",
    "            if(len(triplet_l)==0 or i[0][k].real > max(triplet_l)+1e-5):\n",
    "                triplet_l.append(i[0][k].real)\n",
    "        if(N==5 and SpinTotal == 3/4 and len(cation_l)==0):\n",
    "            cation_l.append(i[0][k].real)\n",
    "        if(N==3 and SpinTotal == 3/4 and len(anion_l)==0):\n",
    "            anion_l.append(i[0][k].real)\n",
    "        if(len(singlet_l)==2 and len(triplet_l)==2 and len(cation_l)==1 and len(anion_l)==1):\n",
    "            break\n",
    "    LiH_singlet_energies.append(singlet_l)\n",
    "    LiH_triplet_energies.append(triplet_l)\n",
    "    LiH_anion_energies.append(anion_l)\n",
    "    LiH_cation_energies.append(cation_l)\n",
    "    print(f\"Distance: {dlist[m]}\")"
   ]
  },
  {
   "cell_type": "code",
   "execution_count": null,
   "id": "29e26e14-44e5-4aa7-b27c-e51d2c3d0d3c",
   "metadata": {
    "tags": []
   },
   "outputs": [],
   "source": [
    "plt.title(\"LiH Molecule\")\n",
    "plt.plot(dlist,LiH_singlet_energies,color='green',label='singlet')\n",
    "plt.plot(dlist,LiH_triplet_energies,color='orange',label='triplet')\n",
    "plt.plot(dlist,LiH_cation_energies,color='red',label='cation')\n",
    "plt.plot(dlist,LiH_anion_energies,color='blue',label='anion')\n",
    "plt.legend()"
   ]
  }
 ],
 "metadata": {
  "environment": {
   "kernel": "python3",
   "name": "tf2-cpu.2-11.m119",
   "type": "gcloud",
   "uri": "us-docker.pkg.dev/deeplearning-platform-release/gcr.io/tf2-cpu.2-11:m119"
  },
  "kernelspec": {
   "display_name": "Python 3 (Local)",
   "language": "python",
   "name": "python3"
  },
  "language_info": {
   "codemirror_mode": {
    "name": "ipython",
    "version": 3
   },
   "file_extension": ".py",
   "mimetype": "text/x-python",
   "name": "python",
   "nbconvert_exporter": "python",
   "pygments_lexer": "ipython3",
   "version": "3.10.14"
  }
 },
 "nbformat": 4,
 "nbformat_minor": 5
}
