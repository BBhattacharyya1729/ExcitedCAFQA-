{
 "cells": [
  {
   "cell_type": "code",
   "execution_count": null,
   "id": "ba7dd146-16d7-41e3-9761-f94827e38da7",
   "metadata": {
    "tags": []
   },
   "outputs": [],
   "source": [
    "import sys\n",
    "sys.path.append(\"../\")\n",
    "from VQD_CAFQA import *\n",
    "import numpy as np\n",
    "import matplotlib.pyplot as plt\n",
    "import scipy\n",
    "from qiskit.quantum_info import Statevector\n",
    "%matplotlib inline\n",
    "\n",
    "def getH4(d):\n",
    "    return JWmolecule(f\"H 0 0 0; H 0 0 {d}; H 0 0 {2*d}; H 0 0 {3*d}\")\n",
    "\n",
    "dlist = np.linspace(0.5,4,8)\n",
    "initials = ['11001100','11101000','10001110','10001100','11101100']"
   ]
  },
  {
   "cell_type": "code",
   "execution_count": null,
   "id": "091667ea-ae40-466c-85e1-e5f42081cf4b",
   "metadata": {},
   "outputs": [],
   "source": [
    "A_CAFQA_parameterList = []\n",
    "A_CAFQA_energiesList = []\n",
    "ansatz = efficientsu2(n_qubits=8,repetitions=3,initial=\"11001100\")\n",
    "ansatzList = [ansatz] + [A_Ansatz(8,3,initial = i) for i in initials]\n",
    "k=len(ansatzList)\n",
    "for d in dlist:\n",
    "    coeffs,paulis,initial=getH4(d)\n",
    "    save_dir = 'A_H4_Data'\n",
    "    energies,paramList = run_genetic_cafqa_vqd(coeffs,paulis,ansatzList,k,save_dir=save_dir,name=f'H4 Distance: {d}',\n",
    "                         budget=10**5,\n",
    "                         num_parents_mating = 4, \n",
    "                         sol_per_pop = 8, \n",
    "                         parent_selection_type = \"sss\", \n",
    "                         keep_parents = 1, \n",
    "                         crossover_type = \"single_point\",\n",
    "                         crossover_probability=0.75, \n",
    "                         mutation_type = \"random\", \n",
    "                         mutation_probability = 0.01,\n",
    "                         keep_elitism=1,\n",
    "                         parallel=4) ###Change\n",
    "    A_CAFQA_parameterList.append(paramList)\n",
    "    A_CAFQA_energiesList.append(energies)"
   ]
  },
  {
   "cell_type": "code",
   "execution_count": null,
   "id": "d2e2a3e5-2f43-43f4-b340-d1c93a33479b",
   "metadata": {},
   "outputs": [],
   "source": [
    "Q_CAFQA_parameterList = []\n",
    "Q_CAFQA_energiesList = []\n",
    "ansatz = efficientsu2(n_qubits=8,repetitions=3,initial=\"11001100\")\n",
    "ansatzList = [ansatz] + [Q_Ansatz(8,3,initial = i) for i in initials]\n",
    "k=len(ansatzList)\n",
    "for d in dlist:\n",
    "    coeffs,paulis,initial=getH4(d)\n",
    "    save_dir = 'Q_H4_Data'\n",
    "    energies,paramList = run_genetic_cafqa_vqd(coeffs,paulis,ansatzList,k,save_dir=save_dir,name=f'H4 Distance: {d}',\n",
    "                         budget=10**5,\n",
    "                         num_parents_mating = 4, \n",
    "                         sol_per_pop = 8, \n",
    "                         parent_selection_type = \"sss\", \n",
    "                         keep_parents = 1, \n",
    "                         crossover_type = \"single_point\",\n",
    "                         crossover_probability=0.75, \n",
    "                         mutation_type = \"random\", \n",
    "                         mutation_probability = 0.01,\n",
    "                         keep_elitism=1,\n",
    "                         parallel=4) ###Change\n",
    "    Q_CAFQA_parameterList.append(paramList)\n",
    "    Q_CAFQA_energiesList.append(energies)"
   ]
  },
  {
   "cell_type": "code",
   "execution_count": null,
   "id": "e7eacce7-5e0a-4598-b04f-32f14103d36c",
   "metadata": {
    "tags": []
   },
   "outputs": [],
   "source": [
    "np.savetxt(\"Q_CAFQA_energiesList.csv\", np.array(Q_CAFQA_energiesList), delimiter=\",\")\n",
    "np.savetxt(\"A_CAFQA_energiesList.csv\", np.array(A_CAFQA_energiesList), delimiter=\",\")"
   ]
  }
 ],
 "metadata": {
  "environment": {
   "kernel": "python3",
   "name": "tf2-cpu.2-11.m119",
   "type": "gcloud",
   "uri": "us-docker.pkg.dev/deeplearning-platform-release/gcr.io/tf2-cpu.2-11:m119"
  },
  "kernelspec": {
   "display_name": "Python 3 (Local)",
   "language": "python",
   "name": "python3"
  },
  "language_info": {
   "codemirror_mode": {
    "name": "ipython",
    "version": 3
   },
   "file_extension": ".py",
   "mimetype": "text/x-python",
   "name": "python",
   "nbconvert_exporter": "python",
   "pygments_lexer": "ipython3",
   "version": "3.10.14"
  }
 },
 "nbformat": 4,
 "nbformat_minor": 5
}
